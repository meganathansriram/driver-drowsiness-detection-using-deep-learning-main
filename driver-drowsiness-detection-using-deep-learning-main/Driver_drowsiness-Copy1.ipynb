{
 "cells": [
  {
   "cell_type": "code",
   "execution_count": 1,
   "id": "784deb2d",
   "metadata": {},
   "outputs": [],
   "source": [
    "import tensorflow as tf  \n",
    "import cv2             \n",
    "import matplotlib.pyplot as plt   \n",
    "import numpy as np               \n",
    "import os    \n",
    "import tensorflow as tf\n",
    "from tensorflow import keras\n",
    "from tensorflow.keras import layers\n",
    "from sklearn import metrics\n",
    "from tensorflow.keras.models import Sequential\n",
    "from tensorflow.keras.layers import Dense,Dropout,Conv2D,MaxPooling2D,Flatten\n",
    "from tensorflow.keras.preprocessing.image import ImageDataGenerator"
   ]
  },
  {
   "cell_type": "code",
   "execution_count": 2,
   "id": "fd45d12d",
   "metadata": {},
   "outputs": [],
   "source": [
    "training_data=[]\n",
    "Datadiractory=\"dataset\"\n",
    "Classes=[\"closed\",\"open\"]\n",
    "img_size=100\n",
    "def create_training_data():\n",
    "    for category in Classes:\n",
    "        path=os.path.join(Datadiractory,category)\n",
    "        class_num=Classes.index(category)\n",
    "        for img in os.listdir(path):\n",
    "            try:\n",
    "                img_array=cv2.imread(os.path.join(path,img),cv2.IMREAD_GRAYSCALE)\n",
    "                backtorgb=cv2.cvtColor(img_array,cv2.COLOR_GRAY2RGB)\n",
    "                new_img_array=cv2.resize(backtorgb,(img_size,img_size))\n",
    "                training_data.append([new_img_array,class_num])\n",
    "            except Exception as e:\n",
    "                pass"
   ]
  },
  {
   "cell_type": "code",
   "execution_count": 3,
   "id": "887f788d",
   "metadata": {},
   "outputs": [],
   "source": [
    "create_training_data()\n"
   ]
  },
  {
   "cell_type": "code",
   "execution_count": 4,
   "id": "25ebd62d",
   "metadata": {},
   "outputs": [
    {
     "name": "stdout",
     "output_type": "stream",
     "text": [
      "4382\n"
     ]
    }
   ],
   "source": [
    "print(len(training_data))"
   ]
  },
  {
   "cell_type": "code",
   "execution_count": 5,
   "id": "72346a64",
   "metadata": {},
   "outputs": [],
   "source": [
    "import random  #overfitting \n",
    "\n",
    "random.shuffle(training_data)"
   ]
  },
  {
   "cell_type": "code",
   "execution_count": 6,
   "id": "2b842b9b",
   "metadata": {},
   "outputs": [],
   "source": [
    "X=[]\n",
    "y=[]\n",
    "\n",
    "for features,label in training_data:\n",
    "    X.append(features)\n",
    "    y.append(label)\n",
    "    \n",
    "X=np.array(X).reshape(-1,img_size,img_size,3)"
   ]
  },
  {
   "cell_type": "code",
   "execution_count": 7,
   "id": "76593f9b",
   "metadata": {},
   "outputs": [
    {
     "data": {
      "text/plain": [
       "(4382, 100, 100, 3)"
      ]
     },
     "execution_count": 7,
     "metadata": {},
     "output_type": "execute_result"
    }
   ],
   "source": [
    "X.shape"
   ]
  },
  {
   "cell_type": "code",
   "execution_count": 8,
   "id": "0f184723",
   "metadata": {},
   "outputs": [],
   "source": [
    "#normalize the data \n",
    "X=X/255.0 "
   ]
  },
  {
   "cell_type": "code",
   "execution_count": 9,
   "id": "7883b302",
   "metadata": {},
   "outputs": [],
   "source": [
    "Y=np.array(y)"
   ]
  },
  {
   "cell_type": "code",
   "execution_count": 10,
   "id": "df4a2dfb",
   "metadata": {},
   "outputs": [],
   "source": [
    "model = Sequential()\n",
    "model.add(Conv2D(64,(3,3),input_shape=(100,100,3),activation=\"relu\"))\n",
    "model.add(MaxPooling2D((2,2)))\n",
    "\n",
    "model.add(Conv2D(32,(3,3),activation=\"relu\"))\n",
    "model.add(MaxPooling2D((2,2)))\n",
    "\n",
    "model.add(Conv2D(32,(3,3),activation=\"relu\"))\n",
    "model.add(MaxPooling2D((2,2)))\n",
    "\n",
    "model.add(Conv2D(16,(3,3),activation=\"relu\"))\n",
    "model.add(MaxPooling2D((2,2)))\n",
    "\n",
    "model.add(Conv2D(16,(3,3),activation=\"relu\"))\n",
    "model.add(MaxPooling2D((2,2)))\n",
    "\n",
    "model.add(Flatten())\n",
    "model.add(Dropout(0.5))\n",
    "\n",
    "model.add(Dense(128,activation=\"relu\"))\n",
    "model.add(Dropout(0.2))\n",
    "\n",
    "model.add(Dense(64,activation=\"relu\"))\n",
    "model.add(Dropout(0.2))\n",
    "\n",
    "model.add(Dense(1,activation='sigmoid'))\n",
    "y_test=Y"
   ]
  },
  {
   "cell_type": "code",
   "execution_count": 11,
   "id": "50b35293",
   "metadata": {},
   "outputs": [],
   "source": [
    "model.compile(loss=\"binary_crossentropy\",optimizer=\"adam\",metrics=['accuracy'])"
   ]
  },
  {
   "cell_type": "code",
   "execution_count": 12,
   "id": "cc4045d3",
   "metadata": {
    "scrolled": true
   },
   "outputs": [
    {
     "name": "stdout",
     "output_type": "stream",
     "text": [
      "Epoch 1/20\n",
      "110/110 [==============================] - 23s 195ms/step - loss: 0.6824 - accuracy: 0.5618 - val_loss: 0.5892 - val_accuracy: 0.7617\n",
      "Epoch 2/20\n",
      "110/110 [==============================] - 21s 193ms/step - loss: 0.5198 - accuracy: 0.7549 - val_loss: 0.4591 - val_accuracy: 0.7925\n",
      "Epoch 3/20\n",
      "110/110 [==============================] - 21s 191ms/step - loss: 0.4326 - accuracy: 0.8134 - val_loss: 0.3493 - val_accuracy: 0.8609\n",
      "Epoch 4/20\n",
      "110/110 [==============================] - 21s 191ms/step - loss: 0.3702 - accuracy: 0.8397 - val_loss: 0.2930 - val_accuracy: 0.8917\n",
      "Epoch 5/20\n",
      "110/110 [==============================] - 21s 193ms/step - loss: 0.3058 - accuracy: 0.8756 - val_loss: 0.2856 - val_accuracy: 0.8871\n",
      "Epoch 6/20\n",
      "110/110 [==============================] - 21s 194ms/step - loss: 0.2745 - accuracy: 0.8922 - val_loss: 0.2512 - val_accuracy: 0.9054\n",
      "Epoch 7/20\n",
      "110/110 [==============================] - 21s 190ms/step - loss: 0.2430 - accuracy: 0.9033 - val_loss: 0.2232 - val_accuracy: 0.9190\n",
      "Epoch 8/20\n",
      "110/110 [==============================] - 20s 185ms/step - loss: 0.2172 - accuracy: 0.9175 - val_loss: 0.2371 - val_accuracy: 0.9076\n",
      "Epoch 9/20\n",
      "110/110 [==============================] - 21s 192ms/step - loss: 0.2133 - accuracy: 0.9213 - val_loss: 0.2125 - val_accuracy: 0.9225\n",
      "Epoch 10/20\n",
      "110/110 [==============================] - 21s 189ms/step - loss: 0.2094 - accuracy: 0.9221 - val_loss: 0.1912 - val_accuracy: 0.9327\n",
      "Epoch 11/20\n",
      "110/110 [==============================] - 21s 193ms/step - loss: 0.1923 - accuracy: 0.9261 - val_loss: 0.1888 - val_accuracy: 0.9247\n",
      "Epoch 12/20\n",
      "110/110 [==============================] - 21s 189ms/step - loss: 0.1715 - accuracy: 0.9352 - val_loss: 0.1785 - val_accuracy: 0.9327\n",
      "Epoch 13/20\n",
      "110/110 [==============================] - 21s 191ms/step - loss: 0.1689 - accuracy: 0.9392 - val_loss: 0.1683 - val_accuracy: 0.9396\n",
      "Epoch 14/20\n",
      "110/110 [==============================] - 21s 189ms/step - loss: 0.1721 - accuracy: 0.9304 - val_loss: 0.1676 - val_accuracy: 0.9384\n",
      "Epoch 15/20\n",
      "110/110 [==============================] - 21s 192ms/step - loss: 0.1532 - accuracy: 0.9409 - val_loss: 0.1696 - val_accuracy: 0.9373\n",
      "Epoch 16/20\n",
      "110/110 [==============================] - 21s 189ms/step - loss: 0.1546 - accuracy: 0.9429 - val_loss: 0.1651 - val_accuracy: 0.9361\n",
      "Epoch 17/20\n",
      "110/110 [==============================] - 21s 190ms/step - loss: 0.1429 - accuracy: 0.9449 - val_loss: 0.1544 - val_accuracy: 0.9430\n",
      "Epoch 18/20\n",
      "110/110 [==============================] - 21s 190ms/step - loss: 0.1416 - accuracy: 0.9492 - val_loss: 0.1624 - val_accuracy: 0.9475\n",
      "Epoch 19/20\n",
      "110/110 [==============================] - 22s 199ms/step - loss: 0.1521 - accuracy: 0.9415 - val_loss: 0.1627 - val_accuracy: 0.9407\n",
      "Epoch 20/20\n",
      "110/110 [==============================] - 22s 196ms/step - loss: 0.1412 - accuracy: 0.9458 - val_loss: 0.1573 - val_accuracy: 0.9396\n"
     ]
    }
   ],
   "source": [
    "model_history=model.fit(X,Y,epochs=20,validation_split=0.2) #training "
   ]
  },
  {
   "cell_type": "code",
   "execution_count": 13,
   "id": "5125cc78",
   "metadata": {},
   "outputs": [
    {
     "name": "stdout",
     "output_type": "stream",
     "text": [
      "Model: \"sequential\"\n",
      "_________________________________________________________________\n",
      " Layer (type)                Output Shape              Param #   \n",
      "=================================================================\n",
      " conv2d (Conv2D)             (None, 98, 98, 64)        1792      \n",
      "                                                                 \n",
      " max_pooling2d (MaxPooling2D  (None, 49, 49, 64)       0         \n",
      " )                                                               \n",
      "                                                                 \n",
      " conv2d_1 (Conv2D)           (None, 47, 47, 32)        18464     \n",
      "                                                                 \n",
      " max_pooling2d_1 (MaxPooling  (None, 23, 23, 32)       0         \n",
      " 2D)                                                             \n",
      "                                                                 \n",
      " conv2d_2 (Conv2D)           (None, 21, 21, 32)        9248      \n",
      "                                                                 \n",
      " max_pooling2d_2 (MaxPooling  (None, 10, 10, 32)       0         \n",
      " 2D)                                                             \n",
      "                                                                 \n",
      " conv2d_3 (Conv2D)           (None, 8, 8, 16)          4624      \n",
      "                                                                 \n",
      " max_pooling2d_3 (MaxPooling  (None, 4, 4, 16)         0         \n",
      " 2D)                                                             \n",
      "                                                                 \n",
      " conv2d_4 (Conv2D)           (None, 2, 2, 16)          2320      \n",
      "                                                                 \n",
      " max_pooling2d_4 (MaxPooling  (None, 1, 1, 16)         0         \n",
      " 2D)                                                             \n",
      "                                                                 \n",
      " flatten (Flatten)           (None, 16)                0         \n",
      "                                                                 \n",
      " dropout (Dropout)           (None, 16)                0         \n",
      "                                                                 \n",
      " dense (Dense)               (None, 128)               2176      \n",
      "                                                                 \n",
      " dropout_1 (Dropout)         (None, 128)               0         \n",
      "                                                                 \n",
      " dense_1 (Dense)             (None, 64)                8256      \n",
      "                                                                 \n",
      " dropout_2 (Dropout)         (None, 64)                0         \n",
      "                                                                 \n",
      " dense_2 (Dense)             (None, 1)                 65        \n",
      "                                                                 \n",
      "=================================================================\n",
      "Total params: 46,945\n",
      "Trainable params: 46,945\n",
      "Non-trainable params: 0\n",
      "_________________________________________________________________\n"
     ]
    }
   ],
   "source": [
    "model.save('modeldr.h5')\n",
    "model.summary()"
   ]
  },
  {
   "cell_type": "code",
   "execution_count": 14,
   "id": "129538c4",
   "metadata": {},
   "outputs": [
    {
     "data": {
      "image/png": "[encoded data removed]",
      "text/plain": [
       "<Figure size 640x480 with 1 Axes>"
      ]
     },
     "metadata": {},
     "output_type": "display_data"
    }
   ],
   "source": [
    "\n",
    "plt.plot(model_history.history['loss'])\n",
    "plt.plot(model_history.history['val_loss'])\n",
    "plt.title('Model Loss')\n",
    "plt.ylabel('Loss')\n",
    "plt.xlabel('Epoch')\n",
    "plt.legend(['Train', 'Validation'], loc='upper left', bbox_to_anchor=(1,1))\n",
    "plt.show()"
   ]
  },
  {
   "cell_type": "code",
   "execution_count": 28,
   "id": "c6af604d",
   "metadata": {},
   "outputs": [
    {
     "data": {
      "image/png": "[encoded data removed]",
      "text/plain": [
       "<Figure size 640x480 with 1 Axes>"
      ]
     },
     "metadata": {},
     "output_type": "display_data"
    }
   ],
   "source": [
    "\n",
    "plt.plot(model_history.history['accuracy'])\n",
    "plt.plot(model_history.history['val_accuracy'])\n",
    "plt.title('Model Accuracy')\n",
    "plt.ylabel('Accuracy')\n",
    "plt.xlabel('Epoch')\n",
    "plt.legend(['Train', 'Validation'], loc='upper left', bbox_to_anchor=(1,1))\n",
    "plt.show()\n",
    "pred=[]\n",
    "t=model.predict(X)\n",
    "for n in t:\n",
    "    p=round(n[0])\n",
    "    pred.append(p)\n",
    "\n",
    "\n"
   ]
  },
  {
   "cell_type": "code",
   "execution_count": 30,
   "id": "6e6287e2",
   "metadata": {},
   "outputs": [
    {
     "name": "stdout",
     "output_type": "stream",
     "text": [
      "Accuracy: 96.07485\n",
      "Precision: 0.96084\n",
      "Recall: 0.96075\n",
      "F1 Score: 0.96077\n"
     ]
    }
   ],
   "source": [
    "\n",
    "print('Accuracy:', np.round(metrics.accuracy_score(y_test, pred)*100,5))\n",
    "print('Precision:', np.round(metrics.precision_score(y_test, pred, average='weighted'),5))\n",
    "print('Recall:', np.round(metrics.recall_score(y_test,pred, average='weighted'),5))\n",
    "print('F1 Score:', np.round(metrics.f1_score(y_test, pred, average='weighted'),5))"
   ]
  },
  {
   "cell_type": "code",
   "execution_count": null,
   "id": "1bec05d0",
   "metadata": {},
   "outputs": [],
   "source": []
  },
  {
   "cell_type": "code",
   "execution_count": null,
   "id": "ce84596c",
   "metadata": {},
   "outputs": [],
   "source": []
  },
  {
   "cell_type": "code",
   "execution_count": null,
   "id": "adc2cc1d",
   "metadata": {},
   "outputs": [],
   "source": []
  },
  {
   "cell_type": "code",
   "execution_count": null,
   "id": "1bae4975",
   "metadata": {},
   "outputs": [],
   "source": []
  },
  {
   "cell_type": "code",
   "execution_count": null,
   "id": "3c9f83a5",
   "metadata": {},
   "outputs": [],
   "source": [
    "import cv2\n",
    "import os\n",
    "from keras.models import load_model\n",
    "import numpy as np\n",
    "import time\n",
    "import winsound\n",
    "frequency = 2500\n",
    "duration = 1000\n",
    "\n",
    "\n",
    "face = cv2.CascadeClassifier('haarcascade/haarcascade_frontalface_alt.xml')\n",
    "leye = cv2.CascadeClassifier('haarcascade/haarcascade_eye.xml')\n",
    "reye = cv2.CascadeClassifier('haarcascade/haarcascade_eye.xml')\n",
    "\n",
    "eyes=cv2.CascadeClassifier('haarcascade\\haarcascade_eye.xml')\n",
    "\n",
    "lbl=['Closed eyes','Open eyes']\n",
    "\n",
    "model = load_model('modeldr.h5')\n",
    "path = os.getcwd()\n",
    "cap = cv2.VideoCapture(0) #to access the camera \n",
    "font = cv2.FONT_HERSHEY_COMPLEX_SMALL\n",
    "count=0\n",
    "score=0\n",
    "thicc=2\n",
    "rpred=[99]\n",
    "lpred=[99]\n",
    "\n",
    "\n",
    "while(True):\n",
    "    ret, frame = cap.read()   \n",
    "    height,width = frame.shape[:2] \n",
    "\n",
    "    gray = cv2.cvtColor(frame, cv2.COLOR_BGR2GRAY) \n",
    "    faces = face.detectMultiScale(gray,minNeighbors=5,scaleFactor=1.1,minSize=(25,25)) #Face detection\n",
    "    eye=eyes.detectMultiScale(gray) \n",
    "    left_eye = leye.detectMultiScale(gray,1.1,4) \n",
    "    right_eye =  reye.detectMultiScale(gray,1.1,4)\n",
    "    \n",
    "    cv2.rectangle(frame, (0,height-50) , (200,height) , (0,0,0) ,thickness=cv2.FILLED)\n",
    "\n",
    "    for (x,y,w,h) in faces:\n",
    "        cv2.rectangle(frame, (x,y) , (x+w,y+h) , (150,150,150) , 1) \n",
    "        \n",
    "    for (x,y,w,h) in eye:\n",
    "        cv2.rectangle(frame, (x,y),(x+w,y+h) ,(150,150,150) , 1) \n",
    "       \n",
    "    for (x,y,w,h) in right_eye:\n",
    "        r_eye=frame[y:y+h,x:x+w]\n",
    "        count=count+1\n",
    "        r_eye = cv2.resize(r_eye,(100,100)) \n",
    "        r_eye= r_eye/255                  \n",
    "        r_eye=  r_eye.reshape(100,100,-1)\n",
    "        r_eye = np.expand_dims(r_eye,axis=0)\n",
    "        rpred = model.predict(r_eye)\n",
    "\n",
    "        if(rpred>=0.5):\n",
    "            lbl='Open' \n",
    "        else:\n",
    "            lbl='Closed'\n",
    "        break\n",
    "\n",
    "    for (x,y,w,h) in left_eye:\n",
    "        l_eye=frame[y:y+h,x:x+w]\n",
    "        count=count+1\n",
    "        l_eye = cv2.resize(l_eye,(100,100))\n",
    "        l_eye= l_eye/255\n",
    "        l_eye=l_eye.reshape(100,100,-1)\n",
    "        l_eye = np.expand_dims(l_eye,axis=0)\n",
    "        lpred = model.predict(l_eye)\n",
    "        if(lpred>=0.5):\n",
    "            lbl='Open'   \n",
    "        else:\n",
    "            lbl='Closed'\n",
    "        break\n",
    "\n",
    "    if(lbl==\"Closed\" ):\n",
    "        score=score+1\n",
    "        cv2.putText(frame,\"Closed\",(10,height-20), font, 1,(255,255,255),1,cv2.LINE_AA)\n",
    "\n",
    "    else:\n",
    "        score=score-1\n",
    "        cv2.putText(frame,\"Open\",(10,height-20), font, 1,(255,255,255),1,cv2.LINE_AA)\n",
    "    \n",
    "        \n",
    "    if(score<0):\n",
    "        score=0   \n",
    "    cv2.putText(frame,'Score:'+str(score),(100,height-20), font, 1,(255,255,255),1,cv2.LINE_AA)\n",
    "    if(score>5):\n",
    "        cv2.putText(frame,'DROWSY DRIVER.....',(100,100), font, 1,(0,0,255),1,cv2.LINE_AA)\n",
    "        winsound.Beep(frequency,duration)\n",
    "\n",
    "        if(thicc<16):\n",
    "            thicc= thicc+2\n",
    "        else:\n",
    "            thicc=thicc-2\n",
    "            if(thicc<2):\n",
    "                thicc=2\n",
    "        cv2.rectangle(frame,(0,0),(width,height),(0,0,255),thicc) \n",
    "    cv2.imshow('Driver drowsiness detection',frame)\n",
    "    if cv2.waitKey(1) & 0xFF == ord('s'):\n",
    "        break\n",
    "cap.release()\n",
    "cv2.destroyAllWindows()\n"
   ]
  },
  {
   "cell_type": "code",
   "execution_count": null,
   "id": "9e35ac08",
   "metadata": {},
   "outputs": [],
   "source": []
  },
  {
   "cell_type": "code",
   "execution_count": null,
   "id": "cb4792f0",
   "metadata": {},
   "outputs": [],
   "source": []
  }
 ],
 "metadata": {
  "kernelspec": {
   "display_name": "Python 3 (ipykernel)",
   "language": "python",
   "name": "python3"
  },
  "language_info": {
   "codemirror_mode": {
    "name": "ipython",
    "version": 3
   },
   "file_extension": ".py",
   "mimetype": "text/x-python",
   "name": "python",
   "nbconvert_exporter": "python",
   "pygments_lexer": "ipython3",
   "version": "3.10.9"
  }
 },
 "nbformat": 4,
 "nbformat_minor": 5
}
